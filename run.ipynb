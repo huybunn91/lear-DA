{
 "cells": [
  {
   "cell_type": "code",
   "execution_count": null,
   "id": "6353e1bb",
   "metadata": {},
   "outputs": [],
   "source": []
  },
  {
   "cell_type": "code",
   "execution_count": null,
   "id": "3d35dd32",
   "metadata": {},
   "outputs": [
    {
     "name": "stdout",
     "output_type": "stream",
     "text": [
      "I will print fírst\n"
     ]
    }
   ],
   "source": [
    "from booking.booking import Booking\n",
    "\n",
    "\n",
    "with Booking() as bot:\n",
    "    bot.land_first_page()\n",
    "    bot.change_currency(currency = 'USD')\n",
    "    bot.select_place_to_go('New York')\n",
    "    bot.select_dates('2023-11-2', '2023-11-25')\n",
    "    bot.select_adults(5)\n",
    "    bot.click_search()\n",
    "    bot.apply_filtrations()\n",
    "    bot.collect_data()"
   ]
  },
  {
   "cell_type": "code",
   "execution_count": null,
   "id": "5a7a9106",
   "metadata": {},
   "outputs": [],
   "source": []
  },
  {
   "cell_type": "code",
   "execution_count": null,
   "id": "c14ff3e9",
   "metadata": {},
   "outputs": [],
   "source": []
  },
  {
   "cell_type": "code",
   "execution_count": null,
   "id": "6029bdfe",
   "metadata": {},
   "outputs": [],
   "source": []
  },
  {
   "cell_type": "code",
   "execution_count": null,
   "id": "b280465c",
   "metadata": {},
   "outputs": [],
   "source": []
  }
 ],
 "metadata": {
  "kernelspec": {
   "display_name": "Python 3 (ipykernel)",
   "language": "python",
   "name": "python3"
  },
  "language_info": {
   "codemirror_mode": {
    "name": "ipython",
    "version": 3
   },
   "file_extension": ".py",
   "mimetype": "text/x-python",
   "name": "python",
   "nbconvert_exporter": "python",
   "pygments_lexer": "ipython3",
   "version": "3.11.4"
  }
 },
 "nbformat": 4,
 "nbformat_minor": 5
}
